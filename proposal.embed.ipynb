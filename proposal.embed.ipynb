{
 "cells": [
  {
   "cell_type": "markdown",
   "metadata": {},
   "source": [
    "# \n",
    "\n",
    "# Scientific/Technical/Management"
   ],
   "id": "bfdb5396-2f89-406f-bba9-ace5b53828cb"
  },
  {
   "cell_type": "raw",
   "metadata": {
    "raw_mimetype": "text/html"
   },
   "source": [
    "<!-- # Scientific/Technical/Management Section -->"
   ],
   "id": "fa3b7d0f-4ee6-44d5-90c5-987a675d7384"
  },
  {
   "cell_type": "markdown",
   "metadata": {},
   "source": [
    "## Summary\n",
    "\n",
    "Rapid variations in interplanetary magnetic fields, commonly recognized as solar wind magnetic discontinuities, embody important localized transient rotations or jumps of the magnetic field. Considered responsible for effective plasma heating, they carry the most intense currents found in the solar wind. Theoretical models suggest that the formation and destruction of discontinuities are closely related to the nonlinear dynamics of Alfvén waves. These nonlinear processes can create significant isolated disturbances to the otherwise adiabatic evolution of the solar wind flow with a frozen interplanetary magnetic field. As such, a comprehensive study of these discontinuities will considerably enhance our understanding of the solar wind heating phenomenon.\n",
    "\n",
    "Research into discontinuities in the solar wind begin with the onset of the spacecraft era in the 1960s. This field of study has recently seen a significant intensification, thanks to the launch of the Parker Solar Probe (PSP), which enables magnetic field measurements at closer radial distances to the Sun. Though discontinuities are found nearly everywhere in the heliosphere (as shown by Voyager and Ulysses observations), the most in-depth investigations have focused on the inner heliosphere, around $1$ astronomical unit (AU). **The primary aim of this project is to utilize two novel datasets procured from PSP and Juno magnetic field measurements, examining the evolution of discontinuity properties within and far beyond 1 AU, up to Jupiter’s orbit**. In particular, we will generate and scrutinize two significant datasets: **the first dataset** will collate $1$ AU measurements from STEREO, near-Earth WIND, and ARTEMIS missions with measurements beyond $1$ AU by Juno; **the second dataset** will amalgamate $1$ AU measurements with those made by PSP within $1$ AU. The scientific objective of this project is to answer the following three queries:\n",
    "\n",
    "1.  How does the occurrence rate of discontinuity evolve with the radial distance *beyond* $1$ AU?\n",
    "\n",
    "2.  How does the occurrence rate of discontinuity evolve with the radial distance *within* $1$ AU?\n",
    "\n",
    "3.  How do various discontinuity characteristics, such as the magnetic field magnitude, current density, spatial scale, etc., evolve through the solar wind propagation from the near-Sun regions to 1AU, and subsequently to 5AU?\n",
    "\n",
    "To address the first question, we will integrate Juno measurements between $1$ and $5$ AU with those at $1$ AU, thereby distinguishing temporal (correlated with solar activity) and spatial (correlated with radial distance) variations in occurrence rates. The same procedure will be utilized for PSP and $1$ AU measurements to address the second question. To respond to the third question, information of solar wind velocity is requisite - these measurements are available for all missions, except Juno, which does not activate plasma instruments during the cruise to Jupiter. On a global scale, however, the radial plasma speed of the expanding solar wind remains conserved, hence we will use near-Earth solar wind measurements and a Two-Dimensional Outer Heliosphere Solar Wind Modeling (MSWIM2D) of solar wind propagation to reconstruct the solar wind velocity adjacent to Juno’s location.\n",
    "\n",
    "## Significance of Investigation and Expected Impact\n",
    "\n",
    "Spacecraft investigations of the space plasma environment has revealed that the solar wind magnetic field only on average follows the Parker model of the heliospheric current sheet. Localized transient currents, that can be significantly more intense than the model currents, are carried by various discontinuities observed as strong variations in magnetic field components \\[@colburn1966; @burlaga1968; @turner1971\\]. Most often such variations present as magnetic field rotation within the plane of two most fluctuating components. As illustrated in Fig. , these rotations are observed at a multitude of radial distances from the Sun. These discontinuities play an important role in energy dissipation \\[particle acceleration in the solar wind, see @dmitrukTestParticleEnergization2004; @macbrideTurbulentCascadeAU2008; @osmanIntermittencyLocalHeating2012; @tesseinAssociationSuprathermalParticles2013\\]. Moreover, they contribute significantly to magnetic fluctuation spectra \\[@borovskyContributionStrongDiscontinuities2010; @zhdankinMagneticDiscontinuitiesMagnetohydrodynamic2012; @lionCoherentEventsSpectral2016\\] and can affect space weather \\[@tsurutaniReviewInterplanetaryDiscontinuities2011\\]. However, previous observations of solar wind discontinuities in the deep space rarely were conjugated with solar wind measurements closer to the Sun, and thus did not provide a full picture of the structure and dynamics of discontinuities. Juno magnetic field measurements over six years (2011-2016) and PSP magnetic field and plasma measurements over four years (2019-2023), in combination of STEREO, WIND, and ARTEMIS magnetic field and plasma monitor at $1$ AU during the operation of Juno and PSP, provide a unique breakthrough datasets for the investigation of discontinuities characteristics in both the inner and outer heliosphere."
   ],
   "id": "1a543512-fadf-48f4-b0cd-741285472f57"
  },
  {
   "cell_type": "raw",
   "metadata": {
    "raw_mimetype": "tex"
   },
   "source": [
    "\\begin{wrapfigure}{r}{0.55\\textwidth}\n",
    "  \\begin{center}\n",
    "\\includegraphics[width = 0.55\\textwidth]{figures/schematic.png}\n",
    "  \\end{center}\n",
    "        \\caption{Distribution of occurrence rate of solar wind discontinuities \\citep[see][]{Soding01}.}\n",
    "        \\label{fig1}\n",
    "\\end{wrapfigure}"
   ],
   "id": "d8b60255-4df9-4792-aad2-d3f5457e9a0d"
  },
  {
   "cell_type": "markdown",
   "metadata": {},
   "source": [
    "Several heliospheric spacecraft missions have yielded statistical information about the properties and potential origins of solar wind discontinuities. For instance, Helios-1 and -2 observations showed an abundance of discontinuities within the Earth’s orbit ($<1$ AU from the Sun) . Similarly, Ulysses detected discontinuities between 1 and 5 AU \\[@tsurutaniNonlinearElectromagneticWaves1997\\], while Voyager 1’s findings at $39-43$ AU suggested that these discontinuities pervade the entire heliosphere. Combination of Voyager, Ulysses, WIND, and Helios-2 measurements of discontinuities allows to reconstruct the radial variation of their occurrence rate \\[see Fig. \\ref{fig1} and @sodingRadialLatitudinalDependencies2001\\], although measurements at different radial distances were significantly separate in time. Using simultaneous Juno, STEREO, WIND, and ARTEMIS or PSP, STEREO, WIND, and ARTEMIS measurements, we will be able to investigate and quantify the properties of **solar wind discontinuities at different distances from the Sun, both within $1$ AU and up to $5$ AU**.\n",
    "\n",
    "Ulysses measurements of the high-latitude solar wind at $1-5$ AU showed that the majority of discontinuities resided within the stream-stream interaction regions and/or within Alfvén wave trains . The nonlinear evolution of Alfvén waves (wave steepening) can be the main cause of such discontinuities. The background plasma/magnetic field inhomogeneities and various dissipative processes are key to Alfvén wave nonlinear evolution . In hybrid simulations and analytical models , this steepening was shown to cause formation of discontinuities in configurations resembling the near-Earth observations. There are models predicting discontinuity formation and destruction due to dissipative processes (e.g., Alfvén wave steepening, magnetic reconnection) in the solar wind. However, efficiency of these processes in realistic expanding solar wind was not yet tested against observations. Regular and long-lasting Juno and PSP observations together with almost permanent near-Earth solar wind monitoring provide a unique opportunity to estimate discontinuity occurrence rates over an unprecedentedly large radial distance range ($\\sim 0.1$ AU - $\\sim 45$ AU). We will determine the discontinuity occurrence rates for various radial distances and compare this rate with the prediction of the adiabatic expansion model, **to understand if discontinuity formation or destruction dominate the statistics of discontinuities far away from the solar wind acceleration region**.\n",
    "\n",
    "## Science Objectives and Methodology\n",
    "\n",
    "The main objective of this research is the examination of how solar wind discontinuities evolve with radial distance. The methodology involves the collection and analysis of two datasets: one that combines $1$ AU solar wind measurements conducted by STEREO, ARTEMIS, and WIND, alongside Juno spacecraft measurements during its voyage from $1$ AU to $5$ AU. The second dataset merges data from the same missions at $1$ AU and includes information from the PSP within the inner heliosphere. This methodology will enable us to explore the following research objectives:\n",
    "\n",
    "1.  How does the occurrence rate of discontinuity evolve with the radial distance *within* $1$ AU and *beyond* $1$ AU?\n",
    "\n",
    "2.  How do various discontinuity characteristics, such as the magnetic field magnitude, current density, spatial scale, etc., evolve through the solar wind propagation from the inner heliosphere to outer heliosphere?\n",
    "\n",
    "In the next sections we briefly demonstrate preliminary results of this project and basic elements of the project methodology.\n",
    "\n",
    "## Demonstration of Project Approaches\n",
    "\n",
    "### Dataset, spacecraft instruments, and solar wind model\n",
    "\n",
    "In this project we will use datasets of five missions measuring solar wind magnetic field and plasma. Synergistic observations of these missions should advance our understanding of the solar wind discontinuities, their radial distribution and evolution \\[@velli2020\\]."
   ],
   "id": "3c98c2c0-a619-47ae-bd1b-3a70a8b777b9"
  },
  {
   "cell_type": "raw",
   "metadata": {
    "raw_mimetype": "tex"
   },
   "source": [
    "\\begin{SCfigure}\n",
    "{\\centering \\includegraphics[width = 0.75\\textwidth]{figures/juno_model_validation.png}}\n",
    "\\caption{Time-series comparison of MSWIM2D (red) and Juno-observed solar\n",
    "wind magnetic field magnitudes}\\label{fig:model}\n",
    "\\end{SCfigure}"
   ],
   "id": "cde8fb09-0ef2-4495-b21b-8a81796c9579"
  },
  {
   "cell_type": "markdown",
   "metadata": {},
   "source": [
    "%\n",
    "\n",
    "#### Juno\n",
    "\n",
    "We use the following data collected by Juno: magnetic ﬁelds with a $\\sim1$ s resolution measured by the Juno Fluxgate Magnetometer (MAG) \\[@connerney2017\\], the ion bulk velocity $v$, and the plasma density $n$ with a hourly resolution from solar wind model (see below).\n",
    "\n",
    "#### Parker Solar Probe (PSP)\n",
    "\n",
    "We use the following data collected by PSP: magnetic ﬁelds measured by the FIELDS experiment \\[@bale2016\\], the ion bulk velocity $v$, and the plasma density $n$ with a hourly resolution by the Solar Wind Electrons Alphas and Protons (SWEAP) Investigation \\[@kasper2016\\].\n",
    "\n",
    "#### ARTEMIS\n",
    "\n",
    "We use the following data collected by ARTEMIS: magnetic ﬁelds with a $\\sim 1/5$ s resolution measured by the Fluxgate Magnetometer \\[@auster2008\\], the ion bulk velocity $v$, and the plasma density $n$ calculated from velocity distribution by the Electrostatic Analyzer with $\\sim 4$ s resolution \\[@mcfadden2009\\].\n",
    "\n",
    "#### STEREO\n",
    "\n",
    "We use the following data collected by STEREO: magnetic ﬁelds with a $\\sim1/8$ s resolution by the magnetic ﬁeld experiment \\[@acuña2008\\] on In-situ Measurements of Particles and CME Transients (IMPACT) \\[@luhmann2008\\], the ion bulk velocity $v$, and the plasma density $n$ with a hourly resolution by the Plasma and Suprathermal Ion Composition (PLASTIC) \\[@galvin2008\\].\n",
    "\n",
    "#### Wind\n",
    "\n",
    "We use the following data collected by Wind: magnetic ﬁelds with a $\\sim 1/11$ s resolution measured by the Magnetic Field Investigation (MFI) \\[@lepping1995\\], the ion bulk velocity $v$, and the plasma density $n$ with a hourly resolution by the Solar Wind Experiment (SWE) \\[@ogilvie1995\\].\n",
    "\n",
    "#### Solar wind model\n",
    "\n",
    "June measurements do not include plasma characteristics, and to estimate discontinuity spatial scale (thicknesses) we will use solar wind speed obtained from the model of solar wind propagation. The hourly solar wind model data from the Two-Dimensional Outer Heliosphere Solar Wind Modeling (MSWIM2D) \\[@keebler2022\\] will be employed to determine the ion bulk velocity $v$ and plasma density $n$ at the location of the Juno mission. Utilizing the BATSRUS MHD solver, this model is capable of simulating the propagation of the solar wind from 1 to 75 astronomical units (AU) in the ecliptic plane, effectively encompassing the region of interest for our study. Figure shows comparison of magnetic field magnitudes obtained from MSWIM2D and measured by Juno."
   ],
   "id": "62fb2955-08bf-4f17-adf2-3280a11de559"
  },
  {
   "cell_type": "raw",
   "metadata": {
    "raw_mimetype": "text/html"
   },
   "source": [
    "<!-- ![Time-series comparison of MSWIM2D (red) and Juno-observed solar wind](figures/juno_model_validation.png) -->"
   ],
   "id": "4a164e09-50a7-4698-8141-7a07e636e459"
  },
  {
   "cell_type": "markdown",
   "metadata": {},
   "source": [
    "### Determination of discontinuities\n",
    "\n",
    "We will use @liu2022a method to identify discontinuities in the solar wind. This method has better compatibility for the discontinuities with minor field changes, and is more robust to the situation encountered in the outer heliosphere. For each sampling instant $t$, we define three intervals: the pre-interval $[-1,-1/2]\\cdot T+t$, the middle interval $[-1/,1/2]\\cdot T+t$, and the post-interval $[1/2,1]\\cdot T+t$, in which $T$ are time lags. Let time series of the magnetic field data in these three intervals are labeled ${\\bf B}_-$, ${\\bf B}_0$, ${\\bf B}_+$, respectively. Then for an discontinuity, the following three conditions should be satisfied: (1) $\\sigma({\\bf B}_0)>2\\max\\left(\\sigma({\\bf B}_-, \\sigma({\\bf B}_+)\\right)$, (2) $\\sigma\\left({\\bf B}_-+{\\bf B}_+\\right)>\\sigma({\\bf B}_-)+\\sigma({\\bf B}_+)$, and (3) $|\\Delta {\\bf B}|>|{\\bf B}_{bf}|/10$, in which $\\sigma$ and ${\\bf B}_{bg}$ represent the standard deviation and the background magnetic field magnitude, and $\\Delta {\\bf B}={\\bf B}(t+T/2)-{\\bf B}(t-T/2)$. The first two conditions guarantee that the field changes of the discontinuity identified are large enough to be distinguished from the stochastic fluctuations on magnetic fields, while the third is a supplementary condition to reduce the uncertainty of recognition. We also will use the Maximum Variance (MVA) analysis \\[@Sonnerup68\\] to determine the main (most varying) magnetic field component, $B_l$, and medium variation component, $B_m$. Figure shows several examples of solar wind discontinuities detected by different spacecraft."
   ],
   "id": "1165800c-26c6-459d-9ffc-2ef698ab66d0"
  },
  {
   "cell_type": "raw",
   "metadata": {
    "raw_mimetype": "tex"
   },
   "source": [
    "\\begin{SCfigure}\n",
    " \\centering\n",
    "\\includegraphics[width = 0.75\\textwidth]{figures/fig-ids_examples}\n",
    "\\caption{Discontinuities detected by PSP, Juno, STEREO and near-Earth ARTEMIS satellite: red, blue, and black lines are $B_l$, $B_m$, and $|{\\bf B}|$. \\label{fig:examples}}\n",
    "\\end{SCfigure}"
   ],
   "id": "1ce0c674-7766-4940-88a7-d1d1ef08d203"
  },
  {
   "cell_type": "markdown",
   "metadata": {},
   "source": [
    "### Discontinuity occurrence rate\n",
    "\n",
    "The basic approach of this proposal is to use solar wind measurements at 1AU (STEREO, ARTEMIS, WIND) to compare with Juno and PSP measurements and distinguish effects of solar wind temporal variations and effects of spatial (with the radial distance from the Sun) variations of discontinuity occurrence rate and characteristics. The example of such comparison for the occurrence rate is shown in Fig. , where we plot number of discontinuities measured per day by different spacecraft missions (for the same temporal resolution of magnetic field data and the same criteria of discontinuity determination). The radial distance of Juno for 2011-2015 is shown in Fig. , and the number of discontinuities measured by Juno per day coincides with the discontinuity number measured by STEREO, WIND, and ARTEMIS, when Juno is around $1$ AU. This number (occurrence rate) decreases with distance (with time after $\\sim 2013$), as Juno moves from $1$ AU to $5$ AU. We will use the similar comparison for discontinuity characteristics and occurrence rate derived for PSP and Juno."
   ],
   "id": "dfeb2188-86eb-461c-a7c0-1d9b9ce75a79"
  },
  {
   "cell_type": "raw",
   "metadata": {
    "raw_mimetype": "tex"
   },
   "source": [
    "\\begin{SCfigure}\n",
    "{\\centering \\includegraphics[width = 0.45\\textwidth]{figures/ocr_time_cleaned.png}}\n",
    "    \\caption{The number of discontinuities measured by Juno per day coincides with the discontinuity number measured by STEREO, WIND, and ARTEMIS, when Juno is around $1$ AU. This number (occurrence rate) decreases with distance (with time after $\\sim 2013$), as Juno moves from $1$ AU to $5$ AU. We will use the similar comparison for discontinuity characteristics and occurrence rate derived for PSP and Juno. The radial distance of Juno for 2011-2015 is shown in Fig. \\ref{fig:model}.}\n",
    "    \\label{fig:rate}\n",
    "\\end{SCfigure}"
   ],
   "id": "fd880272-16dd-4f3d-b89b-e936a27ed359"
  },
  {
   "cell_type": "markdown",
   "metadata": {},
   "source": [
    "%\n",
    "\n",
    "## Relevance to Heliophysics Overarching Goal\n",
    "\n",
    "This project focuses on investigation of the solar wind discontinuities, the key element of magnetic field turbulence and the primary interface of charged particle acceleration. Thus, the project contributes to NASA Heliophysics’ overarching goal to: *“Explore and characterize the physical processes in the space environment from the Sun to the heliopause and throughout the univers”* and its specific objectives to: *“Explore the physical processes at work in the space environment from the Sun to Earth and throughout the solar system”*.\n",
    "\n",
    "## Project Schedule\n",
    "\n",
    "This project, spanning three years, assigns each year to a stated objective: in the **first year**, the focus will be on compiling and analyzing Juno’s observations of solar wind discontinuities, supported by a solar wind model and supplemental observations from $1$ AU missions (STEREO, ARTEMIS, WIND); in the **second year**, a similar analysis of solar wind discontinuities will be conducted for PSP, using additional data from the $1$ AU missions. In the **third year**, specific discontinuity characteristics, such as spatial scales and current density, will be analyzed for both datasets. The radial evolution of these features will be compared to the expectations predicted from solar wind adiabatic expansion.\n",
    "\n",
    "#### Management\n",
    "\n",
    "of this project is fully performed by **FI**, Zijin Zhang, who will also be responsible for the assembly and analysis of the observational dataset, and generation of a combined Juno/solar wind model dataset. Project **PI**, Prof. Vassilis Angelopoulos, and group members Dr. Anton Artemyev and Dr. Chen Shi, will contribute to discussions and the education and training of Zijin Zhang. Expertise of Prof. V. Angelopoulos in spacecraft measurement techniques and data analysis , Dr. A. Artemyev in solar wind discontinuity observation and modeling , and Dr. Chen Shi in solar wind observations and simulations guarantees that Z. Zhang will receive all necessary mentorship, advice and support, and thus will successfully complete the thesis project.\n",
    "\n",
    "# Open Science and Data Management Plan (OSDMP)\n",
    "\n",
    "This project aims to develop two key outputs: a data product focusing on the statistics of solar wind discontinuities and a suite of modeling software for analyzing these phenomena.\n",
    "\n",
    "## Data Products: Statistics of Solar Wind Discontinuities\n",
    "\n",
    "#### Product Description:\n",
    "\n",
    "We will generate comprehensive statistics derived from in-situ satellite measurements. This includes:\n",
    "\n",
    "1.  Event lists in ASCII format.\n",
    "2.  Parameters of solar wind discontinuities from two datasets: Juno observations (2011-2015) combined with $1$AU observations, and PSP observations combined with $1$AU observations.\n",
    "3.  Visual aids such as figures in PNG format and detailed tables in ASCII format, providing insights into solar wind velocity and density as reconstructed for the Juno location.\n",
    "\n",
    "#### Scientific Significance:\n",
    "\n",
    "This dataset will facilitate the first quantification of the evolution of solar wind discontinuity with radial distance.\n",
    "\n",
    "#### Data Types and Volume:\n",
    "\n",
    "The project will produce ASCII tables and figure files, estimated to be less than 10 GB in total.\n",
    "\n",
    "#### Documentation and Delivery:\n",
    "\n",
    "Comprehensive documentation, including selection criteria for solar wind discontinuities and spacecraft measurement details, will be provided. The expected delivery time is in the third year of the project.\n",
    "\n",
    "#### Archiving Method:\n",
    "\n",
    "The data products will be published as supporting information in academic papers focused on solar wind discontinuity characteristics at various radial distances. Additionally, the dataset will be uploaded to the open archive [Zenodo](https://zenodo.org/).\n",
    "\n",
    "## Software: Modular and Scalable Solutions for Solar Wind Analysis\n",
    "\n",
    "#### Software Overview\n",
    "\n",
    "We are in the process of developing a set of routines that are both modular and scalable, tailored specifically for in-depth solar wind analysis and the identification of discontinuities. These routines, accessible in Python and Interactive Data Language (IDL), are designed with a focus on performance efficiency and adaptability, enabling the analysis of data from diverse space missions. The initial Python library is available at our [project website](https://beforerr.github.io/ids_finder).\n",
    "\n",
    "#### Scientific Significance:\n",
    "\n",
    "These advanced routines will not only facilitate detailed analysis of solar wind discontinuities and their radial evolution but also provide a comprehensive toolset for the broader scientific community to study magnetic field data from various space missions.\n",
    "\n",
    "#### Modular and Scalable Design:\n",
    "\n",
    "The software’s modular architecture allows for easy adaptation and extension, making it suitable for analyzing data beyond the initial scope of this project. Its scalable nature ensures efficient performance, even when dealing with large datasets from different missions.\n",
    "\n",
    "#### Data Types and Volume:\n",
    "\n",
    "The software package will consist of IDL and Python files, collectively amounting to less than 10 MB.\n",
    "\n",
    "#### Documentation and Release:\n",
    "\n",
    "We will provide comprehensive documentation, including detailed descriptions of each module, usage guidelines, and examples. This documentation will assist users in customizing the software for their specific needs. The software is expected to be released in the first year of the project.\n",
    "\n",
    "#### Archiving Method:\n",
    "\n",
    "Python function will be integrated into the open-source Python-based Space Physics Environment Data Analysis System (PySPEDAS), while IDL routines will be added to the SPEDAS framework . Both will be available under MIT license terms and also uploaded to [Zenodo](https://zenodo.org/).\n",
    "\n",
    "## Roles and responsibilities of team members for data management\n",
    "\n",
    "The Project FI, with the guidance of the PI, will be responsible for releasing and archiving all datasets produced within this project.\n",
    "\n",
    "## Publication of results\n",
    "\n",
    "We anticipate producing 2-3 peer-reviewed manuscripts for journals such as J. Geophys. Res. and Geophys. Res. Lett. Each manuscript will include a supplementary dataset (as detailed in Section 1) to facilitate result reproduction. Project funds will be utilized to ensure open access publication of these papers.\n",
    "\n",
    "# Research Readiness Statement"
   ],
   "id": "61782457-df0e-4093-9ee1-7354cab1a678"
  },
  {
   "cell_type": "raw",
   "metadata": {
    "raw_mimetype": "text/html"
   },
   "source": [
    "<!-- # Research Readiness Statement -->"
   ],
   "id": "fb969438-bf30-42ba-b0cd-93d462f60477"
  },
  {
   "cell_type": "markdown",
   "metadata": {},
   "source": [
    "I believe I am well-prepared for the proposed research, drawing from extensive academic and experiential learning in Space Science, complemented by mentorship.\n",
    "\n",
    "## Professional preparation\n",
    "\n",
    "My academic background includes core courses in physics and space science at both undergraduate and graduate levels, such as Electromagnetic Theory, Plasma Physics, and Solar System Magnetohydrodynamics. This education forms a solid base for the proposed study on solar wind discontinuities.\n",
    "\n",
    "In addition to this, my mentors and I have developed a comprehensive plan for my training and research. As part of this plan, I regularly set aside time for self-study to delve deeper into the field and present latest journal articles/review papers to stay updated on the latest research. My mentors provides guidance, support, and resources to help me enhance my research skills, carry out innovative investigations, and present my findings effectively.\n",
    "\n",
    "As for computer programming and data analysis tools, during my graduate studies, I have become proficient in Python (PySPEDAS, PlanetaryPy, Astropy, Plasmapy), IDL (SPEDAS, CDAS), Julia, and Mathematica. I have used these tools in analyzing mission data from different projects, including Juno, PSP, and THEMIS. I am confident in my ability to utilize these tools effectively for the proposed study—particularly for analyzing discontinuities in the solar wind and sorting through large datasets from several missions.\n",
    "\n",
    "## Graduate study timeline\n",
    "\n",
    "I’m enrolled in a combined Master’s and Ph.D. program in Space Science at UCLA since September 2022, with an anticipated graduation in August 2026. This timeline aligns well with the duration required for the proposed research.\n",
    "\n",
    "## Research experiences\n",
    "\n",
    "My practical research skills stem from undergraduate work in the Wave-particle Interactions Group and an internship at the National Space Science Center. These experiences, including simulating solar wind interactions and processing GNSS data, have sharpened my data analysis and numerical modeling capabilities.\n",
    "\n",
    "Further, I’ve engaged in self-directed learning through workshops, conference student days and short summer courses, enhancing my understanding of space weather and plasma dynamics. My roles as a Teaching Assistant and president of the student scientific expedition association have developed my communication, mentoring, and project management skills, essential for collaborative research and dissemination.\n",
    "\n",
    "Overall, my diverse experiences and proactive learning initiatives provide a strong foundation for conducting advanced analysis and interpretation in space physics.\n",
    "\n",
    "# Mentoring Plan or Agreement\n",
    "\n",
    "Zijin Zhang is a 2nd year PhD student mentored by Prof. Angelopoulos (PI), and in the supportive and intellectually dynamic environment of the Experimental Space Physics group that includes Dr. Chen Shi and and Dr. Anton Artemyev. He is about to schedule his department oral exam, defining his thesis topic on the subject proposal. He has demonstrated independent research capabilities and creative work through the presentations in several international science meetings. The Mentoring Plan for Mr. Zhang includes:\n",
    "\n",
    "-   Weekly individual (splinter) meetings with Prof. Angelopoulos (PI), Dr. Chen and Dr. Artemyev. These are mostly to operationally resolve issues of the research plan realization and review the progress and work towards the stated goals.\n",
    "-   Weekly updated in group meetings, that serve for quick opinion exchange with other team members (several experts on solar wind discontinuity) on hot-off-the-press results.\n",
    "-   Splinter discussions with local experts on the observational and theoretical aspects of the project (Prof. Velli: PSP dataset). These one-on-one meetings aim to provide additional training for Mr. Zhang in data analysis techniques and theoretical approaches useful for project realization.\n",
    "\n",
    "These research meetings plus presentations in joint inter-departmental (encompassing AOS, P&A and EPSS department members) space physics student presentations, Journal Club, and weekly seminars form Mr. Zhang’s primary research-related day-to-day interactions in the UCLA environment. In addition, Prof. Angelopoulos will encourage Mr. Zhang to attend (at a low rate of 1 per quarter) specialized courses that facilitate in-depth exposure to fundamentals, such as non-linear MHD and kinetic theory, turbulence, kinetic simulations, and instrumentation. In all, Mr. Zhang will be exposed to a combination of formal and informal education through a robust and diverse set of courses, meetings, and seminars at UCLA.\n",
    "\n",
    "The PI and the FI are committed to the completion of the proposed research plan.\n",
    "\n",
    "The FI will also be encouraged to attend meetings at AGU, GEM, and other meetings in order to be exposed to experiences from other instructors, and to network with students and early career scientists at those locations. With significant computer resources and software (such as SPEDAS; ) support from local programming staff, as well as from instrument teams on the ARTEMIS mission (in which Prof. Angelopoulos is an active member), Mr. Zhang will be able to address successfully any questions encountered during his research using the missions’ respective datasets.\n",
    "\n",
    "The above research environment and the advisor’s commitment and recent heritage in successfully advising 13 PhD recipients thus far warrant a rich, diverse and productive research experience for Mr. Zhang."
   ],
   "id": "abf436c7-d104-4122-8283-df7e7f88255f"
  }
 ],
 "nbformat": 4,
 "nbformat_minor": 5,
 "metadata": {}
}
