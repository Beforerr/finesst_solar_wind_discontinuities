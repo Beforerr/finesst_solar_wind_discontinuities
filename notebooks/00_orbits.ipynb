{
 "cells": [
  {
   "cell_type": "markdown",
   "metadata": {},
   "source": [
    "---\n",
    "title: Orbits\n",
    "---\n",
    "\n",
    "References:\n",
    "\n",
    "- [Going to Jupiter with Python using Jupyter and poliastro — poliastro documentation](https://docs.poliastro.space/en/stable/examples/Going%20to%20Jupiter%20with%20Python%20using%20Jupyter%20and%20poliastro.html)"
   ]
  },
  {
   "cell_type": "code",
   "execution_count": 1,
   "metadata": {},
   "outputs": [],
   "source": [
    "from astropy.time import Time\n",
    "\n",
    "from poliastro.bodies import Mercury, Venus, Earth, Mars, Jupiter\n",
    "from poliastro.ephem import Ephem\n",
    "from poliastro.frames import Planes\n",
    "from poliastro.util import time_range\n",
    "from poliastro.plotting import StaticOrbitPlotter\n",
    "\n",
    "import matplotlib.pyplot as plt\n",
    "plt.rc('savefig', dpi=300)"
   ]
  },
  {
   "cell_type": "code",
   "execution_count": 20,
   "metadata": {},
   "outputs": [],
   "source": [
    "periods = 75"
   ]
  },
  {
   "cell_type": "markdown",
   "metadata": {},
   "source": [
    "## Juno"
   ]
  },
  {
   "cell_type": "code",
   "execution_count": 21,
   "metadata": {},
   "outputs": [],
   "source": [
    "## Main dates\n",
    "juno_date_launch = Time(\"2011-08-06\", scale=\"utc\").tdb\n",
    "date_flyby = Time(\"2012-09-03 19:21\", scale=\"utc\").tdb\n",
    "juno_date_arrival = Time(\"2016-07-05 03:18\", scale=\"utc\").tdb"
   ]
  },
  {
   "cell_type": "code",
   "execution_count": 22,
   "metadata": {},
   "outputs": [],
   "source": [
    "juno_traj = Ephem.from_horizons(\n",
    "    \"Juno (spacecraft)\",\n",
    "    epochs=time_range(juno_date_launch, end=juno_date_arrival, periods=periods),\n",
    "    plane=Planes.EARTH_ECLIPTIC,\n",
    ")"
   ]
  },
  {
   "cell_type": "markdown",
   "metadata": {},
   "source": [
    "## Parker Solar Probe"
   ]
  },
  {
   "cell_type": "code",
   "execution_count": 23,
   "metadata": {},
   "outputs": [],
   "source": [
    "## Main dates\n",
    "# August 12, 2018: Launch - 3:31 a.m. EDT (7:31 UTC)\n",
    "psp_date_launch = Time(\"2018-08-12T10:00\", scale=\"utc\").tdb\n",
    "# November 5, 2018: Perihelion #1 - 10:27 p.m. EST (Nov. 6, 2018 at 03:27 UTC)\n",
    "p1_date = Time(\"2018-11-06T03:27\", scale=\"utc\").tdb\n",
    "# January 19, 2019: Aphelion #1\n",
    "a1_date = Time(\"2019-01-19T00:00\", scale=\"utc\").tdb"
   ]
  },
  {
   "cell_type": "code",
   "execution_count": 28,
   "metadata": {},
   "outputs": [],
   "source": [
    "psp_traj = Ephem.from_horizons(\n",
    "    \"Parker Solar Probe (spacecraft)\",\n",
    "    epochs=time_range(psp_date_launch, end=p1_date, periods=periods),\n",
    "    plane=Planes.EARTH_ECLIPTIC,\n",
    ")\n",
    "\n",
    "psp_traj_2 = Ephem.from_horizons(\n",
    "    \"Parker Solar Probe (spacecraft)\",\n",
    "    epochs=time_range(p1_date, end=a1_date, periods=periods),\n",
    "    plane=Planes.EARTH_ECLIPTIC,\n",
    ")"
   ]
  },
  {
   "cell_type": "code",
   "execution_count": 25,
   "metadata": {},
   "outputs": [],
   "source": [
    "dark = True\n",
    "alpha = 0.77"
   ]
  },
  {
   "cell_type": "code",
   "execution_count": 33,
   "metadata": {},
   "outputs": [],
   "source": [
    "plotter = StaticOrbitPlotter(num_points=300, plane=Planes.EARTH_ECLIPTIC, dark=dark)\n",
    "\n",
    "plotter.set_body_frame(Earth, juno_date_launch)\n",
    "mercury_plots_traj, mercury_plots_pos = plotter._plot_body_orbit(Mercury, psp_date_launch)\n",
    "venus_plots_traj, venus_plots_pos = plotter.plot_body_orbit(Venus, psp_date_launch)\n",
    "earth_plots_traj, earth_plots_pos = plotter.plot_body_orbit(Earth, juno_date_launch)\n",
    "mars_plots_traj, mars_plots_pos = plotter.plot_body_orbit(Mars, juno_date_arrival)\n",
    "jupiter_plots_traj, jupiter_plots_pos = plotter.plot_body_orbit(Jupiter, juno_date_arrival)\n",
    "\n",
    "\n",
    "for body_traj in [mercury_plots_traj[0], venus_plots_traj[0], earth_plots_traj[0], mars_plots_traj[0], jupiter_plots_traj[0]]:\n",
    "    body_traj.set_linestyle('dotted')\n",
    "for body_pos in [mercury_plots_pos, venus_plots_pos ,earth_plots_pos, mars_plots_pos, jupiter_plots_pos]:\n",
    "    body_pos.set_markersize(3)\n",
    "    body_pos.set_label(None)\n",
    "\n",
    "plotter._set_legend('Mercury', mercury_plots_traj)\n",
    "plotter._set_legend('Venus', venus_plots_traj)\n",
    "plotter._set_legend('Earth', earth_plots_traj)\n",
    "plotter._set_legend('Mars', mars_plots_traj)\n",
    "plotter._set_legend('Jupiter', jupiter_plots_traj)\n",
    "\n",
    "juno_plots_traj, juno_plots_pos = plotter.plot_trajectory(juno_traj._coordinates, label=\"Juno cruise\", color=\"white\")\n",
    "psp_plots_traj, psp_plots_pos = plotter.plot_trajectory(psp_traj._coordinates, label=\"PSP cruise\", color=\"red\")\n",
    "psp_plots_traj_2, psp_plots_pos_2 = plotter.plot_trajectory(psp_traj_2._coordinates, color=\"red\")\n",
    "\n",
    "juno_plots_traj[0].set_linewidth(2)\n",
    "psp_plots_traj[0].set_linewidth(1.5)\n",
    "psp_plots_traj_2[0].set_linewidth(1.5)\n",
    "\n",
    "\n",
    "plotter._ax.legend(title=None, ncols=2, loc=\"upper left\",)\n",
    "plt.savefig('../images/orbits/juno_psp_orbit.svg', bbox_inches='tight')"
   ]
  },
  {
   "cell_type": "code",
   "execution_count": 32,
   "metadata": {},
   "outputs": [],
   "source": [
    "plotter = StaticOrbitPlotter(plane=Planes.EARTH_ECLIPTIC, dark=dark)\n",
    "\n",
    "mercury_plots_traj, mercury_plots_pos = plotter.plot_body_orbit(Mercury, psp_date_launch)\n",
    "venus_plots_traj, venus_plots_pos = plotter.plot_body_orbit(Venus, psp_date_launch)\n",
    "earth_plots_traj, earth_plots_pos = plotter.plot_body_orbit(Earth, psp_date_launch)\n",
    "\n",
    "psp_plots_traj, psp_plots_pos = plotter.plot_trajectory(psp_traj._coordinates, label=\"PSP cruise\", color=\"red\")\n",
    "psp_plots_traj_2, psp_plots_pos_2 = plotter.plot_trajectory(psp_traj_2._coordinates, label=\"PSP cruise\", color=\"red\")\n",
    "\n",
    "psp_plots_traj[0].set_linewidth(2)\n",
    "psp_plots_traj_2[0].set_linewidth(2)\n",
    "\n",
    "for body_traj in [mercury_plots_traj[0], venus_plots_traj[0], earth_plots_traj[0]]:\n",
    "    body_traj.set_linestyle('dotted')\n",
    "for body_pos in [mercury_plots_pos, venus_plots_pos, earth_plots_pos]:\n",
    "    body_pos.set_markersize(3)\n",
    "    \n",
    "plt.legend().set_visible(False)\n",
    "plt.savefig('../images/orbits/psp_orbit.svg', bbox_inches='tight')"
   ]
  },
  {
   "cell_type": "code",
   "execution_count": null,
   "metadata": {},
   "outputs": [],
   "source": []
  }
 ],
 "metadata": {
  "kernelspec": {
   "display_name": "cool_planet",
   "language": "python",
   "name": "python3"
  },
  "language_info": {
   "codemirror_mode": {
    "name": "ipython",
    "version": 3
   },
   "file_extension": ".py",
   "mimetype": "text/x-python",
   "name": "python",
   "nbconvert_exporter": "python",
   "pygments_lexer": "ipython3",
   "version": "3.10.12"
  }
 },
 "nbformat": 4,
 "nbformat_minor": 2
}
