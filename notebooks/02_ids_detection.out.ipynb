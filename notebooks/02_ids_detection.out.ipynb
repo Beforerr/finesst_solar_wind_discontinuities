{
 "cells": [
  {
   "cell_type": "markdown",
   "metadata": {},
   "source": [
    "# Discontinuities detection"
   ],
   "id": "c990f16e-e018-46cb-a546-6f37e16068a0"
  },
  {
   "cell_type": "markdown",
   "metadata": {},
   "source": [
    "# Background\n",
    "\n",
    "Malaspina and Gosling ([2012](#ref-malaspina2012))\n",
    "\n",
    "> Due to large data volume, automated methods of detecting DDs are required. Previous methods of automatically detecting DDs were reported by Siscoe et al. \\[1968\\], Burlaga \\[1969\\], Tsurutani and Smith \\[1979\\], Bruno et al. \\[2001\\], Vasquez et al. \\[2007\\], Greco et al. \\[2008\\] and Li \\[2008\\]. The Siscoe et al. \\[1968\\], Burlaga \\[1969\\], Tsurutani and Smith \\[1979\\], and Vasquez et al. \\[2007\\] methods are similar in that they impose thresholds on the vector change of the magnetic field during the DD, thresholds on magnetic fluctuations before and after the DD, and a requirement that discontinuities are not too closely spaced. The Tsurutani and Smith \\[1979\\] method was developed for 1-min cadence Pioneer 10 and 11 data. The Vasquez et al. \\[2007\\] criteria require a simultaneous large change of dB/dt in all three components (RTN) of B relative to nearby fluctuations and are optimized for 3 Hz ACE data. The Bruno et al. \\[2001\\] DD detection method utilizes combinations of wavelet coefficients to determine a local intermittency measure. Greco et al. \\[2008\\] identified DDs using the partial variance of changes in the vector magnetic field. Li \\[2008\\] developed a statistical approach to detecting DDs using ensemble averages of magnetic field rotation angle 2-point correlation functions. The development of yet another selection method is required to facilitate the matching of current sheets between STA and STB and to accommodate the field gradients present in the 8 Hz STEREO magnetic field data."
   ],
   "id": "cell-1"
  },
  {
   "cell_type": "markdown",
   "metadata": {},
   "source": [
    "Malaspina, David M., and J. T. Gosling. 2012. “Two Spacecraft Observations of Magnetic Discontinuities in the Solar Wind with STEREO.” *Journal of Geophysical Research: Space Physics* 117 (A4). <https://doi.org/10.1029/2011JA017375>."
   ],
   "id": "5a473e49-7951-47e5-9dad-ed69ac7172e9"
  }
 ],
 "nbformat": 4,
 "nbformat_minor": 5,
 "metadata": {}
}
