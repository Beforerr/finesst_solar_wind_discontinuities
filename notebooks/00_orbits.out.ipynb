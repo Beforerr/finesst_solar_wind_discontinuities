{
 "cells": [
  {
   "cell_type": "markdown",
   "metadata": {},
   "source": [
    "# Orbits"
   ],
   "id": "a0350fc4-f8be-4848-ab72-5d9a63bc5c2c"
  }
 ],
 "nbformat": 4,
 "nbformat_minor": 5,
 "metadata": {}
}
