{
 "cells": [
  {
   "cell_type": "markdown",
   "metadata": {},
   "source": [
    "# \n",
    "\n",
    "-   @lepping1986\n",
    "\n",
    "@velli2020\n",
    "\n",
    "\\[@connerney2017\\]\n",
    "\n",
    "\\[@kasper2016\\]\n",
    "\n",
    "-   Juno \\[@bolton2017\\]\n",
    "\n",
    "-   PSP @fox2016 @raouafi2022\n",
    "\n",
    "    -   \\[@bale2016\\]\n",
    "\n",
    "-   Wind\n",
    "\n",
    "    -   Magnetic Field Investigation (MFI) \\[@lepping1995\\]\n",
    "\n",
    "    -   Solar Wind Experiment (SWE) \\[@ogilvie1995\\]\n",
    "\n",
    "-   Solar Orbiter \\[@müller2020\\]"
   ],
   "id": "d198c40f-0df6-4b27-acc4-ba91a7657ed9"
  }
 ],
 "nbformat": 4,
 "nbformat_minor": 5,
 "metadata": {}
}
