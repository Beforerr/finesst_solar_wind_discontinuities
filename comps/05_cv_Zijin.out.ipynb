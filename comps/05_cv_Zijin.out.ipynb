{
 "cells": [
  {
   "cell_type": "markdown",
   "metadata": {},
   "source": [
    "# Curriculum Vitae\n",
    "\n",
    "Zijin Zhang\n",
    "\n",
    "Zijin Zhang\n",
    "\n",
    "Earth, Planetary and Space Sciences, University of California, Los Angeles, CA 90095\n",
    "\n",
    "zijin@ucla.edu\n",
    "\n",
    "## Professional Preparation\n",
    "\n",
    "**Graduate student in Planetary Science** <br> *University of California, Los Angeles* <br> <span class=\"cvdate\">*2022-present*</span>\n",
    "\n",
    "**B.Sc. in Space Physics and B.Eng. in Computer Science** <br> *University of Science and Technology of China* <br> <span class=\"cvdate\">*2018-2022*</span>\n",
    "\n",
    "## Profile\n",
    "\n",
    "## Publications\n",
    "\n",
    "## Presentations"
   ],
   "id": "b593f15a-e9c1-41cf-9762-746799b9d802"
  }
 ],
 "nbformat": 4,
 "nbformat_minor": 5,
 "metadata": {}
}
